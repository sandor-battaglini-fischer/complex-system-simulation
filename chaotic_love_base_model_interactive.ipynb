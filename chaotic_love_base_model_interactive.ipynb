{
 "cells": [
  {
   "cell_type": "code",
   "execution_count": 22,
   "metadata": {},
   "outputs": [
    {
     "data": {
      "text/plain": [
       "' \\nModel of Love Dynamics \\nfrom chapter 8 and 11 of the book.\\n\\nBase model of insecure and biased individuals without environmental stress.\\n\\n'"
      ]
     },
     "execution_count": 22,
     "metadata": {},
     "output_type": "execute_result"
    }
   ],
   "source": [
    "import numpy as np\n",
    "import matplotlib.pyplot as plt\n",
    "from scipy.integrate import odeint\n",
    "import ipywidgets as widgets\n",
    "from ipywidgets import GridBox, Layout, interactive_output\n",
    "from IPython.display import display\n",
    "\n",
    "\"\"\" \n",
    "Model of Love Dynamics \n",
    "from chapter 8 and 11 of the book.\n",
    "\n",
    "Base model of insecure and biased individuals without environmental stress.\n",
    "\n",
    "\"\"\""
   ]
  },
  {
   "cell_type": "code",
   "execution_count": 23,
   "metadata": {},
   "outputs": [],
   "source": [
    "def love_dynamics(y, t, p):\n",
    "    x1, x2 = y\n",
    "    alpha1, alpha2, beta1, beta2, gamma1, gamma2, bA1, bA2, A1, A2, k1, k2, n1, n2, m1, m2, sigma1, sigma2 = p\n",
    "\n",
    "    RL1 = beta1 * k1 * x2 * np.exp(-(k1 * x2)**n1)\n",
    "    RL2 = beta2 * k2 * x1 * np.exp(-(k2 * x1)**n2)\n",
    "\n",
    "    BA1 = x1**(2*m1) / (x1**(2*m1) + sigma1**(2*m1))\n",
    "    BA2 = x2**(2*m2) / (x2**(2*m2) + sigma2**(2*m2))\n",
    "\n",
    "    dx1dt = -alpha1 * x1 + RL1 + (1 + bA1 * BA1) * gamma1 * A2\n",
    "    dx2dt = -alpha2 * x2 + RL2 + (1 + bA2 * BA2) * gamma2 * A1\n",
    "\n",
    "    return [dx1dt, dx2dt]"
   ]
  },
  {
   "cell_type": "code",
   "execution_count": 24,
   "metadata": {},
   "outputs": [],
   "source": [
    "initial_conditions = [1, 1.5]\n",
    "t = np.linspace(0, 50, 1000)\n",
    "\n",
    "slider_style = {'description_width': 'initial'} \n",
    "slider_layout = Layout(width='auto')"
   ]
  },
  {
   "cell_type": "code",
   "execution_count": 25,
   "metadata": {},
   "outputs": [],
   "source": [
    "def update_plot(alpha1, alpha2, beta1, beta2, gamma1, gamma2, bA1, bA2, A1, A2, k1, k2, n1, n2, m1, m2, sigma1, sigma2):\n",
    "    params = [alpha1, alpha2, beta1, beta2, gamma1, gamma2, bA1, bA2, A1, A2, k1, k2, n1, n2, m1, m2, sigma1, sigma2]\n",
    "    solution = odeint(love_dynamics, initial_conditions, t, args=(params,))\n",
    "    \n",
    "    plt.figure(figsize=(16, 5))\n",
    "\n",
    "    # Time series\n",
    "    plt.subplot(1, 2, 1)\n",
    "    plt.plot(t, solution[:, 0], label='Romeo', color='tab:blue')\n",
    "    plt.plot(t, solution[:, 1], label='Juliet', color='tab:pink')\n",
    "    plt.xlabel('Time')\n",
    "    plt.ylabel('Feelings')\n",
    "    plt.title('Dynamics of Romantic Relationship')\n",
    "    plt.legend()\n",
    "    plt.grid(True)\n",
    "\n",
    "    # Phase diagram\n",
    "    plt.subplot(1, 2, 2)\n",
    "    plt.plot(solution[:, 0], solution[:, 1])\n",
    "    plt.xlabel('x1')\n",
    "    plt.ylabel('x2')\n",
    "    plt.title('Phase Diagram')\n",
    "    plt.grid(True)\n",
    "\n",
    "    plt.tight_layout()\n",
    "    plt.show()"
   ]
  },
  {
   "cell_type": "code",
   "execution_count": 26,
   "metadata": {},
   "outputs": [],
   "source": [
    "# Parameters\n",
    "alpha1_slider = widgets.FloatSlider(value=0.36, min=0, max=1, step=0.01, description='Forgetting Coef. Romeo (alpha1)', style=slider_style, layout=slider_layout)\n",
    "alpha2_slider = widgets.FloatSlider(value=0.2, min=0, max=1, step=0.01, description='Forgetting Coef. Juliet (alpha2)', style=slider_style, layout=slider_layout)\n",
    "beta1_slider = widgets.FloatSlider(value=0.75, min=0, max=10, step=0.01, description='Reactiveness to Love Juliet on Romeo (beta1)', style=slider_style, layout=slider_layout)\n",
    "beta2_slider = widgets.FloatSlider(value=10.66, min=0, max=20, step=0.01, description='Reactiveness to Love Romeo on Juliet (beta2)', style=slider_style, layout=slider_layout)\n",
    "gamma1_slider = widgets.FloatSlider(value=1, min=0, max=5, step=0.1, description='Reactiveness to Appeal Juliet on Romeo (gamma1)', style=slider_style, layout=slider_layout)\n",
    "gamma2_slider = widgets.FloatSlider(value=1, min=0, max=5, step=0.1, description='Reactiveness to Appeal Romeo on Juliet (gamma2)', style=slider_style, layout=slider_layout)\n",
    "bA1_slider = widgets.FloatSlider(value=2.9, min=0, max=5, step=0.1, description='Bias Coef. of Romeo (bA1)', style=slider_style, layout=slider_layout)\n",
    "bA2_slider = widgets.FloatSlider(value=1, min=0, max=5, step=0.1, description='Bias Coef. of  Juliet (bA2)', style=slider_style, layout=slider_layout)\n",
    "A1_slider = widgets.FloatSlider(value=0.1, min=0, max=1, step=0.01, description='Appeal of Romeo (A1)', style=slider_style, layout=slider_layout)\n",
    "A2_slider = widgets.FloatSlider(value=0.1, min=0, max=1, step=0.01, description='Appeal of Juliet (A2)', style=slider_style, layout=slider_layout)\n",
    "k1_slider = widgets.FloatSlider(value=0.08, min=0, max=2, step=0.01, description='Insecurity of Romeo (k1)', style=slider_style, layout=slider_layout)\n",
    "k2_slider = widgets.FloatSlider(value=1.5, min=0, max=2, step=0.01, description='Insecurity of Juliet (k2)', style=slider_style, layout=slider_layout)\n",
    "n1_slider = widgets.FloatSlider(value=1, min=0, max=10, step=0.1, description='Shape of Reaction Function Romeo on Juliet (n1)', style=slider_style, layout=slider_layout)\n",
    "n2_slider = widgets.FloatSlider(value=4, min=0, max=10, step=0.1, description='Shape of Reaction Function Juliet on Romeo (n2)', style=slider_style, layout=slider_layout)\n",
    "m1_slider = widgets.FloatSlider(value=4, min=0, max=10, step=0.1, description='Shape of Bias Function Romeo (m1)', style=slider_style, layout=slider_layout)\n",
    "m2_slider = widgets.FloatSlider(value=4, min=0, max=10, step=0.1, description='Shape of Bias Function Juliet (m2)', style=slider_style, layout=slider_layout)\n",
    "sigma1_slider = widgets.FloatSlider(value=1, min=-1, max=1, step=0.1, description='Saddle Quantity of Romeo (sigma1)', style=slider_style, layout=slider_layout)\n",
    "sigma2_slider = widgets.FloatSlider(value=1, min=-1, max=1, step=0.1, description='Saddle Quantity of Juliet (sigma2)', style=slider_style, layout=slider_layout)"
   ]
  },
  {
   "cell_type": "code",
   "execution_count": 27,
   "metadata": {},
   "outputs": [
    {
     "data": {
      "application/vnd.jupyter.widget-view+json": {
       "model_id": "da1072d487b641e197e0e0c4fd2d91ad",
       "version_major": 2,
       "version_minor": 0
      },
      "text/plain": [
       "VBox(children=(GridBox(children=(FloatSlider(value=0.36, description='Forgetting Coef. Romeo (alpha1)', layout…"
      ]
     },
     "execution_count": 27,
     "metadata": {},
     "output_type": "execute_result"
    }
   ],
   "source": [
    "sliders = [\n",
    "    alpha1_slider, alpha2_slider, beta1_slider, beta2_slider, gamma1_slider, gamma2_slider,\n",
    "    bA1_slider, bA2_slider, A1_slider, A2_slider, k1_slider, k2_slider, n1_slider, n2_slider,\n",
    "    m1_slider, m2_slider, sigma1_slider, sigma2_slider\n",
    "]\n",
    "\n",
    "grid = GridBox(sliders, layout=Layout(\n",
    "    width='100%',\n",
    "    grid_template_columns='repeat(3, 32%)',  \n",
    "    grid_gap='20px 20px'\n",
    "))\n",
    "\n",
    "interactive_plot = interactive_output(update_plot, {\n",
    "    'alpha1': alpha1_slider, 'alpha2': alpha2_slider, 'beta1': beta1_slider, 'beta2': beta2_slider,\n",
    "    'gamma1': gamma1_slider, 'gamma2': gamma2_slider, 'bA1': bA1_slider, 'bA2': bA2_slider,\n",
    "    'A1': A1_slider, 'A2': A2_slider, 'k1': k1_slider, 'k2': k2_slider, 'n1': n1_slider, \n",
    "    'n2': n2_slider, 'm1': m1_slider, 'm2': m2_slider, 'sigma1': sigma1_slider, 'sigma2': sigma2_slider\n",
    "})\n",
    "\n",
    "widgets.VBox([grid, interactive_plot])\n"
   ]
  },
  {
   "cell_type": "code",
   "execution_count": null,
   "metadata": {},
   "outputs": [],
   "source": []
  }
 ],
 "metadata": {
  "kernelspec": {
   "display_name": "Python 3 (ipykernel)",
   "language": "python",
   "name": "python3"
  },
  "language_info": {
   "codemirror_mode": {
    "name": "ipython",
    "version": 3
   },
   "file_extension": ".py",
   "mimetype": "text/x-python",
   "name": "python",
   "nbconvert_exporter": "python",
   "pygments_lexer": "ipython3",
   "version": "3.12.0"
  }
 },
 "nbformat": 4,
 "nbformat_minor": 4
}
