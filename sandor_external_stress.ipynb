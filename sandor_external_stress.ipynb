{
 "cells": [
  {
   "cell_type": "markdown",
   "metadata": {},
   "source": [
    "# Plots for the base model and external stress"
   ]
  },
  {
   "cell_type": "code",
   "execution_count": null,
   "metadata": {},
   "outputs": [],
   "source": [
    "import numpy as np\n",
    "import matplotlib.pyplot as plt\n",
    "import time\n",
    "from multiprocessing import Pool\n",
    "\n",
    "from love import base_model as base \n",
    "from love import external_stress as stress"
   ]
  },
  {
   "cell_type": "markdown",
   "metadata": {},
   "source": [
    "## Base model for two people without external stress"
   ]
  },
  {
   "cell_type": "code",
   "execution_count": null,
   "metadata": {},
   "outputs": [],
   "source": [
    "# Parameters w/ extensive comments\n",
    "params = [\n",
    "    0.36,   # alpha1    =   Forgetting coefficient 1 (decay rate of love of individual 1 in absence of partner)\n",
    "    0.2,    # alpha2    =   Forgetting coefficient 2\n",
    "    0.75,   # beta1     =   Reactiveness to love of 2 on 1 (influence of the partner's love on an individual's feelings)\n",
    "    10.66,  # beta2     =   Reactiveness to love of 1 on 2\n",
    "    1,      # gamma1    =   Reactiveness to appeal of 2 on 1 (influence of the partner's appeal on an individual's feelings)\n",
    "    1,      # gamma2    =   Reactiveness to appeal of 1 on 2\n",
    "    2.9,    # bA1       =   Bias coefficient of individual 1 (how much individual 1 is biased towards their partner, > 0 for synergic, 0 for unbiased, < 0 for platonic)\n",
    "    1,      # bA2       =   Bias coefficient of individual 2\n",
    "    0.1,    # A1        =   Appeal of individual 1 (how much individual 1 is appealing to their partner)\n",
    "    0.1,    # A2        =   Appeal of individual 2\n",
    "    0.08,   # k1        =   Insecurity of individual 1 (Peak of reaction function of 1 on 2, high k1 means they are annoyed by their partner's love earlier)\n",
    "    1.5,    # k2        =   Insecurity of individual 2\n",
    "    1,      # n1        =   Shape of reaction function of 1 on 2 (nonlinearity of reaction function of 1 on 2, sensitivity of the individuals' feelings to changes in their partner's feelings)\n",
    "    4,      # n2        =   Shape of reaction function of 2 on 1\n",
    "    4,      # m1        =   Shape of bias function of 1 (nonlinearity of bias function of 1, sensitivity of how the own feelings influence their perception of their partner's appeal)\n",
    "    4,      # m2        =   Shape of bias function of 2\n",
    "    1,      # sigma1    =   Saddle quantity of 1 (Trace of Jabobian of 1, threshold of when own feelings influence their perception of their partner's appeal. > 0 for stable, < 0 for unstable)\n",
    "    1       # sigma2    =   Saddle quantity of 2\n",
    "]\n",
    "\n",
    "\n",
    "# Initial conditions\n",
    "initial_conditions = [1, 1.5]\n",
    "t = np.linspace(0, 50, 1000)\n",
    "\n",
    "solution = base.odeint(base.love_dynamics, initial_conditions, t, args=(params,))\n",
    "\n",
    "\n",
    "# Plot\n",
    "fig, axs = plt.subplots(1, 2, figsize=(12, 5))\n",
    "\n",
    "# Time series\n",
    "axs[0].plot(t, solution[:, 0], label='Romeo', color='tab:blue')\n",
    "axs[0].plot(t, solution[:, 1], label='Juliet', color='tab:pink')\n",
    "axs[0].set_xlabel('Time')\n",
    "axs[0].set_ylabel('Feelings')\n",
    "axs[0].set_title('Dynamics of Romantic Relationship')\n",
    "axs[0].legend()\n",
    "axs[0].grid(True)\n",
    "\n",
    "# Phase diagram\n",
    "axs[1].plot(solution[:, 0], solution[:, 1])\n",
    "axs[1].set_xlabel('x1')\n",
    "axs[1].set_ylabel('x2')\n",
    "axs[1].set_title('Phase Diagram')\n",
    "axs[1].grid(True)\n",
    "\n",
    "fig.tight_layout()\n",
    "\n",
    "plt.show()"
   ]
  },
  {
   "cell_type": "markdown",
   "metadata": {},
   "source": [
    "## External stress"
   ]
  },
  {
   "cell_type": "markdown",
   "metadata": {},
   "source": [
    "### Initial parameters"
   ]
  },
  {
   "cell_type": "code",
   "execution_count": null,
   "metadata": {},
   "outputs": [],
   "source": [
    "# Parameters\n",
    "params = [\n",
    "    0.36,   # alpha1    =   Forgetting coefficient 1 (decay rate of love of Romeo in absence of partner)\n",
    "    0.2,    # alpha2    =   Forgetting coefficient 2\n",
    "    0.75,   # beta1     =   Reactiveness to love of 2 on 1 (influence of the partner's love on an individual's feelings)\n",
    "    10.66,  # beta2     =   Reactiveness to love of 1 on 2\n",
    "    1,      # gamma1    =   Reactiveness to appeal of 2 on 1 (influence of the partner's appeal on an individual's feelings)\n",
    "    1,      # gamma2    =   Reactiveness to appeal of 1 on 2\n",
    "    2.9,    # bA1       =   Bias coefficient of Romeo (how much Romeo is biased towards their partner, > 0 for synergic, 0 for unbiased, < 0 for platonic)\n",
    "    1,      # bA2       =   Bias coefficient of individual 2\n",
    "    0.15,  # A1        =   Appeal of Romeo (how much Romeo is appealing to their partner)\n",
    "    0.1,    # A2        =   Appeal of individual 2\n",
    "    0.08,   # k1        =   Insecurity of Romeo (Peak of reaction function of 1 on 2, high k1 means they are annoyed by their partner's love earlier)\n",
    "    1.5,    # k2        =   Insecurity of individual 2\n",
    "    1,      # n1        =   Shape of reaction function of 1 on 2 (nonlinearity of reaction function of 1 on 2, sensitivity of the individuals' feelings to changes in their partner's feelings)\n",
    "    4,      # n2        =   Shape of reaction function of 2 on 1\n",
    "    4,      # m1        =   Shape of bias function of 1 (nonlinearity of bias function of 1, sensitivity of how the own feelings influence their perception of their partner's appeal)\n",
    "    4,      # m2        =   Shape of bias function of 2\n",
    "    1,      # sigma1    =   Saddle quantity of 1 (Trace of Jabobian of 1, threshold of when own feelings influence their perception of their partner's appeal. > 0 for stable, < 0 for unstable)\n",
    "    1       # sigma2    =   Saddle quantity of 2\n",
    "]\n",
    "\n",
    "t = np.linspace(0, 208, 1000000)\n",
    "A1_values = np.linspace(0.05, 0.19, 25)\n",
    "epsilon_values = np.linspace(0, 1, 25)\n",
    "epsilon = 0.26\n",
    "initial_conditions = [0.895, 1.5]\n",
    "omega = 2 * np.pi / 52\n",
    "\n",
    "param_combinations = [(A1, epsilon) for A1 in A1_values for epsilon in epsilon_values]\n",
    "\n",
    "start_time = time.time()\n",
    "\n",
    "with Pool() as pool:\n",
    "    results = pool.map(stress.compute_LLE_for_params, param_combinations)\n",
    "\n",
    "LLE_values = np.array(results).reshape(len(A1_values), len(epsilon_values))\n",
    "\n",
    "end_time = time.time()\n",
    "print(f\"Total runtime: {end_time - start_time:.2f} seconds\")\n"
   ]
  },
  {
   "cell_type": "markdown",
   "metadata": {},
   "source": [
    "### The dynamics under external stress\n",
    "\n",
    "Increase the time for more points on the peak-to-peak plot."
   ]
  },
  {
   "cell_type": "code",
   "execution_count": null,
   "metadata": {},
   "outputs": [],
   "source": [
    "stress.plot_dynamics(t, solution, epsilon, omega, params, initial_conditions)"
   ]
  },
  {
   "cell_type": "markdown",
   "metadata": {},
   "source": [
    "### The heatmap of the Largest Lyapunov Exponent\n",
    "\n",
    "Adapt the A1_values and epsilon_values resolution for more detail."
   ]
  },
  {
   "cell_type": "code",
   "execution_count": null,
   "metadata": {},
   "outputs": [],
   "source": [
    "stress.plot_LLE_values(LLE_values, A1_values, epsilon_values)"
   ]
  }
 ],
 "metadata": {
  "kernelspec": {
   "display_name": "base",
   "language": "python",
   "name": "python3"
  },
  "language_info": {
   "codemirror_mode": {
    "name": "ipython",
    "version": 3
   },
   "file_extension": ".py",
   "mimetype": "text/x-python",
   "name": "python",
   "nbconvert_exporter": "python",
   "pygments_lexer": "ipython3",
   "version": "3.11.0"
  }
 },
 "nbformat": 4,
 "nbformat_minor": 2
}
