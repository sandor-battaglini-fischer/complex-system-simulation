{
 "cells": [
  {
   "cell_type": "markdown",
   "metadata": {},
   "source": [
    "# The 6d dynamical system initial plots"
   ]
  },
  {
   "cell_type": "code",
   "execution_count": null,
   "metadata": {},
   "outputs": [],
   "source": [
    "from love import multi_dynamical_system as rommulti\n"
   ]
  },
  {
   "cell_type": "code",
   "execution_count": null,
   "metadata": {},
   "outputs": [],
   "source": [
    "# Parameters\n",
    "# Intimacy and Passion Dynamics for Xena\n",
    "axx = -0.2  # Forgetting coefficient of the intimacy of Xena to Yorgo.\n",
    "axy = -0.4  # If Yorgo’s intimacy increases, Xena’s will decrease, and if it decreases, it will increase.\n",
    "bxx = +0.5  # If Xena’s passion increases, her sense of intimacy increases, and if it decreases, it decreases.\n",
    "bxy = -0.2  # As Yorgo’s passion for Xena increase, Xena’s closeness to Yorgo decreases.\n",
    "cxx = +0.3  # Her passion increase when Xena feels close. Men with whom she does not feel close are not attractive.\n",
    "cxy = +0.7  # Intimate men are very attractive to Xena. Her passion for men who do not behave closely is significantly reduced.\n",
    "dxx = -0.1  # Forgetting coefficient of the passion of Xena for Yorgo.\n",
    "dxy = +0.4  # As Yorgo’s passion grows, so does Xena’s. A man who acts romantic may attract her.\n",
    "\n",
    "# Intimacy and Passion Dynamics for Yorgo\n",
    "ayy = -0.2  # Forgetting coefficient of the intimacy of Yorgo to Xena.\n",
    "ayx = +0.6  # If Yorgo’s intimacy increases, Xena’s will decrease, if it decreases, it will increase.\n",
    "byy = -0.5  # If Yorgo’s passion increases, his sense of intimacy decreases, and if it decreases, it increases.\n",
    "byx = +0.6  # As Xena’s passion for Yorgo increases, Yorgo’s intimacy with Xena increases.\n",
    "cyy = -0.3  # His passion decreases when Yorgo feels close. Women with whom he does not feel close are attractive.\n",
    "cyx = -0.1  # Intimate women are not attractive to Yorgo. His passion for women who are close to him weakens a little.\n",
    "dyy = -0.1  # Forgetting coefficient of the passion of Yorgo to Xena.\n",
    "dyx = -0.4  # Effect of Xena's passion on Yorgo's passion. As Xena’s passion increases, Yorgo’s decreases.\n",
    "\n",
    "# Impression coefficients\n",
    "fxy = +1.0  # Xena’s impression of intimacy or friendship with Yorgo. She finds Yorgo intimate and friendly.\n",
    "gyx = +1.0  # Yorgo’s impression of glamourousness or attractiveness about Xena. He finds Xena attractive and desires her romantically and sexually.\n",
    "fyx = +0.0  # Yorgo’s impression of intimacy or friendship with Xena. Yorgo found Xena neither sympathetic nor antipathetic.\n",
    "gxy = -1.0  # Xena’s impression of glamourousness or attractiveness about Yorgo. She does not find Yorgo romantically or sexually attractive.\n",
    "hxy = +0.0  # Xena's impression of commitment to Yorgo. She does not find Yorgo committed to her.\n",
    "hyx = +0.0  # Yorgo's impression of commitment to Xena. He does not find Xena committed to him.\n",
    "\n",
    "\n",
    "# Commitment Dynamics\n",
    "lxx = 0.3  # Influence of Xena's commitment on her own intimacy. She's more intimate with Yorgo because she's committed to him.\n",
    "lxy = 0.2  # Influence of Yorgo's commitment on Xena's intimacy. She is more intimate with Yorgo because he is committed to her.\n",
    "lyy = 0.1  # Influence of Yorgo's commitment on his own intimacy. He is more intimate with Xena because he is committed to her.\n",
    "lyx = 0.1  # Influence of Xena's commitment on Yorgo's intimacy. The more she is committed to him, the more intimate he is with her.\n",
    "\n",
    "mxx = 0.1  # Influence of Xena's intimacy on her own commitment. She is committed to Yorgo because she feels close to him.\n",
    "mxy = 0.5  # Influence of Yorgo's intimacy on Xena's commitment. She is committed to Yorgo because he feels close to her.\n",
    "myy = 0.0  # Influence of Yorgo's intimacy on his own commitment. His intimacy does not affect his commitment.\n",
    "myx = 0.1  # Influence of Xena's intimacy on Yorgo's commitment. Her intimacy makes him slightly more committed to her.\n",
    "\n",
    "nxx = -0.3  # Influence of Xena's commitment on her own passion. The more she is committed to Yorgo, the less passionate she is about him.\n",
    "nxy = 0.4  # Influence of Yorgo's commitment on Xena's passion. The more he is committed to her, the more passionate she is about him.\n",
    "nyy = 0.1  # Influence of Yorgo's commitment on his own passion. The more he is committed to Xena, the more passionate he is about her.\n",
    "nyx = 0.2  # Influence of Xena's commitment on Yorgo's passion. The more she is committed to him, the more passionate he is about her.\n",
    "\n",
    "oxx = -0.1  # Influence of Xena's passion on her own commitment. Her own passion scares her away.\n",
    "oxy = 0.7  # Influence of Yorgo's passion on Xena's commitment. Yorgo's passion makes her more committed to him.\n",
    "oyy = 0.2  # Influence of Yorgo's passion on his own commitment. The more he is passionate about Xena, the more committed he is to her.\n",
    "oyx = 0.3  # Influence of Xena's passion on Yorgo's commitment. The more she is passionate about him, the more committed he is to her.\n",
    "\n",
    "pxx = -0.2   # Forgetting coefficient of the commitment of Xena to Yorgo.\n",
    "pxy = 0.1   # As Yorgo's commitment increases, Xena's commitment increases.\n",
    "pyx = -0.1   # As Xena's commitment increases, Yorgo's commitment decreases.\n",
    "pyy = -0.1   # Forgetting coefficient of the commitment of Yorgo to Xena.\n",
    "\n",
    "\n",
    "# Initial Conditions\n",
    "xi0 = 0.0   # Initial intimacy level for Xena\n",
    "yi0 = 0.0   # Initial intimacy level for Yorgo\n",
    "xp0 = 0.0   # Initial passion level for Xena\n",
    "yp0 = 0.0   # Initial passion level for Yorgo\n",
    "xc0 = 0.0   # Initial commitment level for Xena\n",
    "yc0 = 0.0   # Initial commitment level for Yorgo\n",
    "\n",
    "\n",
    "initial_conditions = [xi0, yi0, xp0, yp0, xc0, yc0] \n",
    "params = [axx, axy, ayx, ayy, bxx, bxy, byx, byy, cxx, cxy, cyx, cyy, dxx, dxy, dyx, dyy, fxy, fyx, gxy, gyx, hxy, hyx, lxx, lxy, lyx, lyy, mxx, mxy, myx, myy, nxx, nxy, nyx, nyy, oxx, oxy, oyx, oyy, pxx, pxy, pyx, pyy]\n",
    "lle = rommulti.largest_lyapunov_exponent(initial_conditions, params)\n",
    "print(\"Largest Lyapunov Exponent: \", lle)\n",
    "\n",
    "rommulti.update_plot()\n",
    "\n",
    "\n",
    "\n"
   ]
  }
 ],
 "metadata": {
  "kernelspec": {
   "display_name": "base",
   "language": "python",
   "name": "python3"
  },
  "language_info": {
   "codemirror_mode": {
    "name": "ipython",
    "version": 3
   },
   "file_extension": ".py",
   "mimetype": "text/x-python",
   "name": "python",
   "nbconvert_exporter": "python",
   "pygments_lexer": "ipython3",
   "version": "3.11.0"
  }
 },
 "nbformat": 4,
 "nbformat_minor": 2
}
