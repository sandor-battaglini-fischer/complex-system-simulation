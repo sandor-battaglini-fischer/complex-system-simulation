{
 "cells": [
  {
   "cell_type": "code",
   "execution_count": null,
   "id": "a51da41b-8c93-4c78-8707-6f8ab52333df",
   "metadata": {},
   "outputs": [],
   "source": [
    "import math\n",
    "import matplotlib.pyplot as plt\n",
    "import numpy as np\n",
    "from scipy.integrate import odeint\n",
    "\n",
    "from love.romeo_juliet import romeo_juliet\n",
    "from love.rhett_scarlett import rhett_scarlett\n",
    "from love.phase_portrait import plot_phase_portrait\n",
    "from love.utils import lyapunov_exponent\n",
    "\n",
    "\n",
    "%matplotlib inline"
   ]
  },
  {
   "cell_type": "markdown",
   "id": "9bb10586-0c1c-492d-8d1e-d6e559f7f406",
   "metadata": {},
   "source": [
    "## Base Model"
   ]
  },
  {
   "cell_type": "code",
   "execution_count": null,
   "id": "deaba849-38d8-444f-a25a-60e500147f58",
   "metadata": {},
   "outputs": [],
   "source": [
    "params = (0, 1, -1, 0)  # eager beaver. he gets excited by Juliet’s love for him, and\n",
    "# is further spurred on by his own affectionate feelings for her.\n",
    "init_conditions = [[1.0, 1.0], [2.0, 2.0], [3.0, 3.0]]"
   ]
  },
  {
   "cell_type": "code",
   "execution_count": null,
   "id": "7a58e131-3db3-44cc-8ef5-4adfad6ab862",
   "metadata": {},
   "outputs": [],
   "source": [
    "plot_phase_portrait(romeo_juliet, params, init_conditions, xlabel='R', ylabel='J', xlim=(-5, 5), ylim=(-5, 5))"
   ]
  },
  {
   "cell_type": "code",
   "execution_count": null,
   "id": "5e13c3f0-2f37-4247-af5a-2ad11440ec63",
   "metadata": {},
   "outputs": [],
   "source": [
    "params = (-1, 2, 2, -1) # cautious lover case 1: a**2 < b**2 \n",
    "# the relationship always fizzles out to mutual indifference. The lesson\n",
    "# seems to be that excessive caution can lead to apathy.\n",
    "init_conditions = [[-1.0, 4.0], [-4.0, 4.0], [-4.0, 1.0], [4.0, -1.0], [4.0, -4.0], [1.0, -4.0], [4.0, 4.0], [-4.0, -4.0]]"
   ]
  },
  {
   "cell_type": "code",
   "execution_count": null,
   "id": "82626fde-b522-4db2-a0aa-093e0b36e58c",
   "metadata": {},
   "outputs": [],
   "source": [
    "plot_phase_portrait(romeo_juliet, params, init_conditions, xlabel='R', ylabel='J', xlim=(-5, 5), ylim=(-5, 5))"
   ]
  },
  {
   "cell_type": "code",
   "execution_count": null,
   "id": "31291038-0930-45bd-a369-d6eb8aa6fec9",
   "metadata": {},
   "outputs": [],
   "source": [
    "params = (-2, 1, 1, -2) # cautious lover case 1: a**2 > b**2 \n",
    "\n",
    "# the lovers are more daring, or perhaps more sensitive to each other.\n",
    "# Now the relationship is explosive. Depending on their feelings initially, their relationship\n",
    "# either becomes a love fest or a war. In either case, all trajectories approach\n",
    "# the line R 􀀞 J , so their feelings are eventually mutual\n",
    "init_conditions = [[-1.0, 4.0], [-4.0, 4.0], [-4.0, 1.0], [4.0, -1.0], [4.0, -4.0], [1.0, -4.0], [4.0, 4.0], [-4.0, -4.0]]"
   ]
  },
  {
   "cell_type": "code",
   "execution_count": null,
   "id": "4416223a-230d-4bc9-b12c-58c7aeaf600d",
   "metadata": {},
   "outputs": [],
   "source": [
    "plot_phase_portrait(romeo_juliet, params, init_conditions, xlabel='R', ylabel='J', xlim=(-5, 5), ylim=(-5, 5))"
   ]
  },
  {
   "cell_type": "code",
   "execution_count": null,
   "id": "09f8c818-cc41-44c3-bcab-14b5b4f2bfd3",
   "metadata": {},
   "outputs": [],
   "source": [
    "# third\n",
    "params = (2, 1, -1, -2) # Fire and Ice case 1 |a|>|b|:\n",
    "\n",
    "# Do opposites attract?\n",
    "# saddle point\n",
    "init_conditions = [[-1.0, 4.0], [-4.0, 4.0], [-4.0, 1.0], [4.0, -1.0], [4.0, -4.0], [1.0, -4.0], [4.0, 4.0], [-4.0, -4.0],\n",
    "                   [2.0, -5.0], [2.0, 5.0], [-2.0, -5.0], [-2.0, 5.0]]"
   ]
  },
  {
   "cell_type": "code",
   "execution_count": null,
   "id": "996e5183-0ae4-4dec-9428-a2ca438c2500",
   "metadata": {},
   "outputs": [],
   "source": [
    "plot_phase_portrait(romeo_juliet, params, init_conditions, xlabel='R', ylabel='J', xlim=(-5, 5), ylim=(-5, 5))"
   ]
  },
  {
   "cell_type": "code",
   "execution_count": null,
   "id": "9d8c1424-16c0-47c9-86d8-4cb992f72c7d",
   "metadata": {},
   "outputs": [],
   "source": [
    "params = (1, 2, -2, -1) # Fire and Ice case 2 |a|<|b|:\n",
    "\n",
    "# Do opposites attract?\n",
    "# center\n",
    "init_conditions = [[-1.0, 4.0], [-4.0, 4.0], [-4.0, 1.0], [4.0, -1.0], [4.0, -4.0], [1.0, -4.0], [4.0, 4.0], [-4.0, -4.0],\n",
    "                   [2.0, -5.0], [2.0, 5.0], [-2.0, -5.0], [-2.0, 5.0]]"
   ]
  },
  {
   "cell_type": "code",
   "execution_count": null,
   "id": "1b77fa5d-262c-4eb2-b81d-f92a5ee219d3",
   "metadata": {},
   "outputs": [],
   "source": [
    "plot_phase_portrait(romeo_juliet, params, init_conditions, xlabel='R', ylabel='J', xlim=(-5, 5), ylim=(-5, 5))"
   ]
  },
  {
   "cell_type": "code",
   "execution_count": null,
   "id": "579753c2-8557-4084-a0fe-a9b068378d89",
   "metadata": {},
   "outputs": [],
   "source": [
    "# fifth\n",
    "params = (0, 0, 2, 1) # Romeo the robot case 1 ab > 0\n",
    "\n",
    "init_conditions = [[-4.0, 4.0], [4.0, -4.0], [-3.0, 3.0], [3.0, -3.0]]"
   ]
  },
  {
   "cell_type": "code",
   "execution_count": null,
   "id": "30c8180e-37b6-459c-8432-1bb5d0c2f55e",
   "metadata": {},
   "outputs": [],
   "source": [
    "plot_phase_portrait(romeo_juliet, params, init_conditions, xlabel='R', ylabel='J', xlim=(-5, 5), ylim=(-5, 5))"
   ]
  },
  {
   "cell_type": "code",
   "execution_count": null,
   "id": "d25d7eef-9293-48ed-91ef-4b1156dfa71a",
   "metadata": {},
   "outputs": [],
   "source": [
    "# sixth\n",
    "params = (0, 0, -2, 1) # Romeo the robot case 2 ab < 0\n",
    "\n",
    "init_conditions = [[-4.0, 4.0], [4.0, -4.0], [-3.0, 3.0], [3.0, -3.0]]"
   ]
  },
  {
   "cell_type": "code",
   "execution_count": null,
   "id": "4759484f-0931-4042-89ee-bf97ad95abcf",
   "metadata": {},
   "outputs": [],
   "source": [
    "plot_phase_portrait(romeo_juliet, params, init_conditions, xlabel='R', ylabel='J', xlim=(-5, 5), ylim=(-5, 5))"
   ]
  },
  {
   "cell_type": "markdown",
   "id": "008abd84-c2e3-4123-a9e3-d21b28be7b2a",
   "metadata": {},
   "source": [
    "## Gone with the Wind (Non-linear Dynamics)"
   ]
  },
  {
   "cell_type": "code",
   "execution_count": null,
   "id": "a0ddfdc3-152d-4f76-a16a-33cc35e75758",
   "metadata": {},
   "outputs": [],
   "source": []
  },
  {
   "cell_type": "code",
   "execution_count": null,
   "id": "149a7f73-d1b2-45fd-a6a3-db78ae7533ba",
   "metadata": {},
   "outputs": [],
   "source": [
    "# Perfectly idential lovers\n",
    "params = (1.0, 1.0, 15)\n",
    "init_conditions = [[0.0, 0.0], [1.0, 10.0], [10.0, 1.0], [10.0, 4.0], [4.0, 10.0], [6.0, 10.0], [10.0, 6.0], [0.0, 2.0], [2.0, 0.0], [10.0, 10.0]]"
   ]
  },
  {
   "cell_type": "code",
   "execution_count": null,
   "id": "1c1f47eb-ed68-4b24-8261-47b1245365c6",
   "metadata": {},
   "outputs": [],
   "source": [
    "plot_phase_portrait(rhett_scarlett, params, init_conditions, xlabel='Scarlett', ylabel='Rhett', xlim=(0, 10), ylim=(0, 10))"
   ]
  },
  {
   "cell_type": "code",
   "execution_count": null,
   "id": "91dc4bb7-dccd-4320-a00d-d7a847ab8d7f",
   "metadata": {},
   "outputs": [],
   "source": [
    "# First part of the movie, pre-war\n",
    "params = (1.0, 1.2, 15)\n",
    "init_conditions = [[0.0, 0.0], [1.0, 10.0], [10.0, 1.0], [10.0, 4.0], [4.0, 10.0], [6.0, 10.0], [10.0, 6.0], [0.0, 2.0], [2.0, 0.0], [10.0, 10.0]]"
   ]
  },
  {
   "cell_type": "code",
   "execution_count": null,
   "id": "1cabdace-7941-4183-b002-bdd139c40850",
   "metadata": {
    "scrolled": true
   },
   "outputs": [],
   "source": [
    "plot_phase_portrait(rhett_scarlett, params, init_conditions, xlabel='Scarlett', ylabel='Rhett', xlim=(0, 10), ylim=(0, 10))"
   ]
  },
  {
   "cell_type": "code",
   "execution_count": null,
   "id": "4bc19f63-9e6a-4374-9898-2a3f2c502e59",
   "metadata": {},
   "outputs": [],
   "source": [
    "# Second part of the movie, post-war\n",
    "params = (2.0, 1.2, 15)\n",
    "init_conditions = [[0.0, 0.0], [1.0, 10.0], [10.0, 1.0], [10.0, 4.0], [4.0, 10.0], [6.0, 10.0], [10.0, 6.0], \n",
    "                   [0.0, 2.0], [2.0, 0.0], [10.0, 10.0], [0.0, 8.0]]"
   ]
  },
  {
   "cell_type": "code",
   "execution_count": null,
   "id": "f5388d69-9c28-49fd-84b0-aa69a40d9501",
   "metadata": {
    "scrolled": true
   },
   "outputs": [],
   "source": [
    "plot_phase_portrait(rhett_scarlett, params, init_conditions, xlabel='Scarlett', ylabel='Rhett', xlim=(0, 10), ylim=(0, 10))"
   ]
  },
  {
   "cell_type": "code",
   "execution_count": null,
   "id": "3ac52af5-ad3b-4bb4-b8d1-d7b7fc4593f5",
   "metadata": {},
   "outputs": [],
   "source": []
  }
 ],
 "metadata": {
  "kernelspec": {
   "display_name": "numercial_algorithm (venv)",
   "language": "python",
   "name": "venv"
  },
  "language_info": {
   "codemirror_mode": {
    "name": "ipython",
    "version": 3
   },
   "file_extension": ".py",
   "mimetype": "text/x-python",
   "name": "python",
   "nbconvert_exporter": "python",
   "pygments_lexer": "ipython3",
   "version": "3.11.7"
  }
 },
 "nbformat": 4,
 "nbformat_minor": 5
}
