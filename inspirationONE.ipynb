{
 "cells": [
  {
   "cell_type": "code",
   "execution_count": 14,
   "metadata": {},
   "outputs": [],
   "source": [
    "import numpy as np\n",
    "import matplotlib.pyplot as plt\n",
    "from scipy.integrate import odeint\n",
    "import ipywidgets as widgets\n",
    "from ipywidgets import GridBox, Layout, interactive_output\n",
    "from IPython.display import display"
   ]
  },
  {
   "cell_type": "code",
   "execution_count": 15,
   "metadata": {},
   "outputs": [],
   "source": [
    "def love_dynamics(y, t, params):\n",
    "    alpha1, alpha2, beta1, beta2, gamma1, gamma2, A1, A2, x_star2, epsilon, mu, delta = params\n",
    "    x1, x2, z2 = y\n",
    "\n",
    "    RL1 = beta1 * x2 * (1 - (x2 / x_star2)**2)\n",
    "    RL2 = beta2 * x1 + gamma2 * A1 / (1 + delta * z2)\n",
    "    dz2dt = epsilon * (mu * x2 - z2)\n",
    "\n",
    "    dx1dt = -alpha1 * x1 + RL1 + gamma1 * A2\n",
    "    dx2dt = -alpha2 * x2 + RL2\n",
    "\n",
    "    return [dx1dt, dx2dt, dz2dt]"
   ]
  },
  {
   "cell_type": "code",
   "execution_count": 16,
   "metadata": {},
   "outputs": [],
   "source": [
    "initial_conditions = [0, 0, 0]\n",
    "t = np.linspace(0, 50, 1000)\n",
    "\n",
    "slider_style = {'description_width': 'initial'} \n",
    "slider_layout = Layout(width='auto')"
   ]
  },
  {
   "cell_type": "code",
   "execution_count": 17,
   "metadata": {},
   "outputs": [],
   "source": [
    "def update_plot(alpha1, alpha2, beta1, beta2, gamma1, gamma2, A1, A2, x_star2, epsilon, mu, delta):\n",
    "    params = [alpha1, alpha2, beta1, beta2, gamma1, gamma2, A1, A2, x_star2, epsilon, mu, delta]\n",
    "    solution = odeint(love_dynamics, initial_conditions, t, args=(params,))\n",
    "    \n",
    "    plt.figure(figsize=(16, 5))\n",
    "\n",
    "    # Time series\n",
    "    plt.subplot(1, 2, 1)\n",
    "    plt.plot(t, solution[:, 0], label='Romeo', color='tab:blue')\n",
    "    plt.plot(t, solution[:, 1], label='Juliet', color='tab:pink')\n",
    "    plt.xlabel('Time')\n",
    "    plt.ylabel('Feelings')\n",
    "    plt.title('Dynamics of Romantic Relationship')\n",
    "    plt.legend()\n",
    "    plt.grid(True)\n",
    "\n",
    "    # Phase diagram\n",
    "    plt.subplot(1, 2, 2)\n",
    "    plt.plot(solution[:, 0], solution[:, 1])\n",
    "    plt.xlabel('x1')\n",
    "    plt.ylabel('x2')\n",
    "    plt.title('Phase Diagram')\n",
    "    plt.grid(True)\n",
    "\n",
    "    plt.tight_layout()\n",
    "    plt.show()\n"
   ]
  },
  {
   "cell_type": "code",
   "execution_count": 18,
   "metadata": {},
   "outputs": [],
   "source": [
    "# Parameters\n",
    "alpha1_slider = widgets.FloatSlider(value=0.36, min=0, max=1, step=0.01, description='Forgetting Coef. Romeo (alpha1)', style=slider_style, layout=slider_layout)\n",
    "alpha2_slider = widgets.FloatSlider(value=0.2, min=0, max=1, step=0.01, description='Forgetting Coef. Juliet (alpha2)', style=slider_style, layout=slider_layout)\n",
    "beta1_slider = widgets.FloatSlider(value=0.75, min=0, max=10, step=0.01, description='Reactiveness to Love Juliet on Romeo (beta1)', style=slider_style, layout=slider_layout)\n",
    "beta2_slider = widgets.FloatSlider(value=10.66, min=0, max=20, step=0.01, description='Reactiveness to Love Romeo on Juliet (beta2)', style=slider_style, layout=slider_layout)\n",
    "gamma1_slider = widgets.FloatSlider(value=1, min=0, max=5, step=0.1, description='Reactiveness to Appeal Juliet on Romeo (gamma1)', style=slider_style, layout=slider_layout)\n",
    "gamma2_slider = widgets.FloatSlider(value=1, min=0, max=5, step=0.1, description='Reactiveness to Appeal Romeo on Juliet (gamma2)', style=slider_style, layout=slider_layout)\n",
    "A1_slider = widgets.FloatSlider(value=0.1, min=0, max=1, step=0.01, description='Appeal of Romeo (A1)', style=slider_style, layout=slider_layout)\n",
    "A2_slider = widgets.FloatSlider(value=0.1, min=0, max=1, step=0.01, description='Appeal of Juliet (A2)', style=slider_style, layout=slider_layout)\n",
    "x_star2_slider = widgets.FloatSlider(value=0.1, min=0, max=1, step=0.01, description='xstar', style=slider_style, layout=slider_layout)\n",
    "epsilon_slider = widgets.FloatSlider(value=0.1, min=0, max=1, step=0.01, description='Inhibition Factor Juliet (epsilon2)', style=slider_style, layout=slider_layout)\n",
    "mu_slider = widgets.FloatSlider(value=0.1, min=0, max=1, step=0.01, description='Love to Inspiration Factor Romeo (mu1)', style=slider_style, layout=slider_layout)\n",
    "delta_slider = widgets.FloatSlider(value=0.1, min=0, max=1, step=0.01, description='Delta (d1)', style=slider_style, layout=slider_layout)\n"
   ]
  },
  {
   "cell_type": "code",
   "execution_count": 20,
   "metadata": {},
   "outputs": [
    {
     "data": {
      "application/vnd.jupyter.widget-view+json": {
       "model_id": "7be45776c0e9415a94752bf46291005b",
       "version_major": 2,
       "version_minor": 0
      },
      "text/plain": [
       "VBox(children=(GridBox(children=(FloatSlider(value=0.36, description='Forgetting Coef. Romeo (alpha1)', layout…"
      ]
     },
     "execution_count": 20,
     "metadata": {},
     "output_type": "execute_result"
    }
   ],
   "source": [
    "sliders = [\n",
    "    alpha1_slider, alpha2_slider, beta1_slider, beta2_slider, gamma1_slider, gamma2_slider,\n",
    "    A1_slider, A2_slider, epsilon_slider, mu_slider, delta_slider\n",
    "]\n",
    "\n",
    "grid = GridBox(sliders, layout=Layout(\n",
    "    width='100%',\n",
    "    grid_template_columns='repeat(3, 32%)',  \n",
    "    grid_gap='20px 20px'\n",
    "))\n",
    "interactive_plot = interactive_output(update_plot, {\n",
    "    'alpha1': alpha1_slider, 'alpha2': alpha2_slider, 'beta1': beta1_slider, 'beta2': beta2_slider,\n",
    "    'gamma1': gamma1_slider, 'gamma2': gamma2_slider,\n",
    "    'A1': A1_slider, 'A2': A2_slider,\n",
    "    'x_star2': x_star2_slider,\n",
    "    'mu': mu_slider,'epsilon': epsilon_slider,\n",
    "    'delta': delta_slider\n",
    "})\n",
    "widgets.VBox([grid, interactive_plot])"
   ]
  }
 ],
 "metadata": {
  "kernelspec": {
   "display_name": "Python 3",
   "language": "python",
   "name": "python3"
  },
  "language_info": {
   "codemirror_mode": {
    "name": "ipython",
    "version": 3
   },
   "file_extension": ".py",
   "mimetype": "text/x-python",
   "name": "python",
   "nbconvert_exporter": "python",
   "pygments_lexer": "ipython3",
   "version": "3.11.6"
  }
 },
 "nbformat": 4,
 "nbformat_minor": 2
}
