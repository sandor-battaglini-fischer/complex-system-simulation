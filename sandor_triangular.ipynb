{
 "cells": [
  {
   "cell_type": "markdown",
   "metadata": {},
   "source": [
    "# Triangular relationships"
   ]
  },
  {
   "cell_type": "code",
   "execution_count": null,
   "metadata": {},
   "outputs": [],
   "source": [
    "import numpy as np\n",
    "import matplotlib.pyplot as plt\n",
    "from scipy.integrate import odeint\n",
    "import time\n",
    "from multiprocessing import Pool\n",
    "import pandas as pd\n",
    "\n",
    "from love import triangular_relationships as trirel\n",
    "from love import triangular_perturbation as tripert\n",
    "from love import triangular_perturbation_heatmap as triheat\n",
    "from love import triangular_lyapunov_sensitivity_analysis as trisens"
   ]
  },
  {
   "cell_type": "markdown",
   "metadata": {},
   "source": [
    "## Basic dynamics, phase plot and partner switching plots for a set of parameters"
   ]
  },
  {
   "cell_type": "code",
   "execution_count": null,
   "metadata": {},
   "outputs": [],
   "source": [
    "# Parameters w/ extensive comments\n",
    "params = [\n",
    "    2,    # alpha1: forgetting coefficient for Kathe (years^-1)\n",
    "    1,    # alpha2: forgetting coefficient for Jules (years^-1)\n",
    "    2,    # alpha3: forgetting coefficient for Jim (years^-1)\n",
    "    1,    # beta21: reaction coefficient to love for Jules to Kathe's love(years^-1)\n",
    "    8,    # beta12: reaction coefficient to love for Kathe to Jules love (years^-1)\n",
    "    1,    # beta13: reaction coefficient to love for Kathe to Jim's love (years^-1)\n",
    "    2,    # beta31: reaction coefficient to love for Jim to Kathe's love (years^-1)\n",
    "    1,    # gamma1: reaction coefficient to appeal for Kathe (years^-1)\n",
    "    0.5,  # gamma2: reaction coefficient to appeal for Jules (years^-1)\n",
    "    1,    # gamma3: reaction coefficient to appeal for Jim (years^-1)\n",
    "    0.0062,   # epsilon: sensitivity of reaction to love for Kathe (coupling constant)\n",
    "    0.0285,    # delta: sensitivity of reaction to love for Jules and Jim (coupling constant)\n",
    "    20,   # A1: appeal of Kathe (dimensionless)\n",
    "    4,    # A2: appeal of Jules (dimensionless)\n",
    "    5,    # A3: appeal of Jim (dimensionless)\n",
    "    2.5,  # tauI12: insecurity threshold for Kathe's reaction to Jules' love\n",
    "    10,   # sigmaL12: sensitivity of reaction to love for Kathe to Jules\n",
    "    10.5, # sigmaI12: sensitivity of insecurity for Kathe to Jules\n",
    "    9,    # tau_S: synergism threshold for Kathe\n",
    "    1,    # sigmaS: sensitivity of synergism for Kathe\n",
    "    0,    # tauP: platonicity threshold for Jules\n",
    "    1,    # p: maximum platonicity for Jules\n",
    "    1,    # sigmaP: sensitivity of platonicity for Jules\n",
    "    9,    # tauI31: insecurity threshold for Jim's reaction to love\n",
    "    10,   # sigmaL31: sensitivity of reaction to love for Jim\n",
    "    1,    # sigmaI31: sensitivity of insecurity for Jim\n",
    "    2,    # s: synergism coefficient for Kathe\n",
    "]\n",
    "\n",
    "trirel.default_triangular_plot()"
   ]
  },
  {
   "cell_type": "markdown",
   "metadata": {},
   "source": [
    "## Plots for a perturbation of initial conditions or parameters"
   ]
  },
  {
   "cell_type": "code",
   "execution_count": null,
   "metadata": {},
   "outputs": [],
   "source": [
    "t = np.linspace(0, 50, 1000)\n",
    "\n",
    "# Original dynamics\n",
    "initial_conditions = [0, 0, 0, 0]\n",
    "solution_original = odeint(tripert.love_dynamics, initial_conditions, t, args=(params,))\n",
    "\n",
    "# Perturbed dynamics\n",
    "initial_perturbations = {0: 5,  # x12: initial feelings of Kathe towards Jules\n",
    "                            1: -5,  # x13: initial feelings of Kathe towards Jim\n",
    "                            2: 5,  # x21: initial feelings of Jules towards Kathe\n",
    "                            3: -2   # x31: initial feelings of Jim towards Kathe\n",
    "                            }\n",
    "parameter_perturbations = {0: 0,    # alpha1: forgetting coefficient for Kathe (years^-1)\n",
    "                            1: 0,    # alpha2: forgetting coefficient for Jules (years^-1)\n",
    "                            2: 0,    # alpha3: forgetting coefficient for Jim (years^-1)\n",
    "                            3: 0,    # beta21: reaction coefficient to love for Jules to Kathe's love(years^-1)\n",
    "                            4: 0,    # beta12: reaction coefficient to love for Kathe to Jules love (years^-1)\n",
    "                            5: 0,    # beta13: reaction coefficient to love for Kathe to Jim's love (years^-1)\n",
    "                            6: 0,    # beta31: reaction coefficient to love for Jim to Kathe's love (years^-1)\n",
    "                            7: 0,    # gamma1: reaction coefficient to appeal for Kathe (years^-1)\n",
    "                            8: 0,    # gamma2: reaction coefficient to appeal for Jules (years^-1)\n",
    "                            9: 0,    # gamma3: reaction coefficient to appeal for Jim (years^-1)\n",
    "                            10: 0,   # epsilon: sensitivity of reaction to love for Kathe (coupling constant)\n",
    "                            11: 0,   # delta: sensitivity of reaction to love for Jules and Jim (coupling constant)\n",
    "                            12: 0,   # A1: appeal of Kathe (dimensionless)\n",
    "                            13: 0,   # A2: appeal of Jules (dimensionless)\n",
    "                            14: 0,   # A3: appeal of Jim (dimensionless)\n",
    "                            15: 0,   # tauI12: insecurity threshold for Kathe's reaction to Jules' love\n",
    "                            16: 0,   # sigmaL12: sensitivity of reaction to love for Kathe to Jules\n",
    "                            17: 0,   # sigmaI12: sensitivity of insecurity for Kathe to Jules\n",
    "                            18: 0,   # tau_S: synergism threshold for Kathe\n",
    "                            19: 0,   # sigmaS: sensitivity of synergism for Kathe\n",
    "                            20: 0,   # tauP: platonicity threshold for Jules\n",
    "                            21: 0,   # p: maximum platonicity for Jules\n",
    "                            22: 0,   # sigmaP: sensitivity of platonicity for Jules\n",
    "                            23: 0,   # tauI31: insecurity threshold for Jim's reaction to love\n",
    "                            24: 0,   # sigmaL31: sensitivity of reaction to love for Jim\n",
    "                            25: 0    # sigmaI31: sensitivity of insecurity for Jim\n",
    "                            }\n",
    "\n",
    "perturbed_initial_conditions = tripert.perturb_initial_conditions(initial_conditions, initial_perturbations)\n",
    "perturbed_params = tripert.perturb_parameters(params, parameter_perturbations)\n",
    "solution_perturbed = odeint(tripert.love_dynamics, perturbed_initial_conditions, t, args=(perturbed_params,))\n",
    "\n",
    "# Plotting\n",
    "tripert.plot_love_dynamics(t, solution_original, solution_perturbed)"
   ]
  },
  {
   "cell_type": "markdown",
   "metadata": {},
   "source": [
    "## Heatmap of Normalised Integral Balance\n",
    "\n",
    "Visualises who \"wins\" in the end."
   ]
  },
  {
   "cell_type": "code",
   "execution_count": null,
   "metadata": {},
   "outputs": [],
   "source": [
    "t = np.linspace(0, 50, 1000)\n",
    "initial_conditions = [0, 0, 0, 0]\n",
    "a1_range = np.linspace(0, 20, 10) \n",
    "a3_range = np.linspace(0, 20, 10)\n",
    "\n",
    "\"\"\" Increase to 100-250 for a more accurate heatmap \"\"\"\n",
    "\n",
    "\n",
    "\n",
    "# Generate heatmap data\n",
    "heatmap_data = triheat.generate_heatmap_data(a3_range, a1_range, initial_conditions, params, t)\n",
    "\n",
    "# Plot the heatmap\n",
    "triheat.plot_integral_balance_heatmap(a3_range, a1_range, heatmap_data)"
   ]
  }
 ],
 "metadata": {
  "kernelspec": {
   "display_name": "base",
   "language": "python",
   "name": "python3"
  },
  "language_info": {
   "codemirror_mode": {
    "name": "ipython",
    "version": 3
   },
   "file_extension": ".py",
   "mimetype": "text/x-python",
   "name": "python",
   "nbconvert_exporter": "python",
   "pygments_lexer": "ipython3",
   "version": "3.11.0"
  }
 },
 "nbformat": 4,
 "nbformat_minor": 2
}
